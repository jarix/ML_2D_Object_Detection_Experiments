{
 "cells": [
  {
   "cell_type": "markdown",
   "id": "6ff426c0",
   "metadata": {},
   "source": [
    "# SSD Object Detecion with Tensorflow Object Detection API"
   ]
  },
  {
   "cell_type": "code",
   "execution_count": 1,
   "id": "8b473508",
   "metadata": {},
   "outputs": [],
   "source": [
    "# Prerequisites and Dependencies:\n",
    "import os\n",
    "from PIL import Image\n",
    "import numpy as np\n",
    "import tarfile\n",
    "import urllib.request\n",
    "\n",
    "import tensorflow as tf\n",
    "\n",
    "# Dependencies\n",
    "# !pip install tensorflow\n",
    "# !pip install tf_slim \n",
    "# !pip install tensorflow-object-detection-api"
   ]
  },
  {
   "cell_type": "markdown",
   "id": "046eafb2",
   "metadata": {},
   "source": [
    "### Download Pre-Trained Models form Tensorflow Object Detection Library"
   ]
  },
  {
   "cell_type": "code",
   "execution_count": 2,
   "id": "498182ae",
   "metadata": {},
   "outputs": [
    {
     "name": "stderr",
     "output_type": "stream",
     "text": [
      "C:\\Users\\Jari\\AppData\\Local\\Temp\\ipykernel_109492\\314816498.py:9: DeprecationWarning: Python 3.14 will, by default, filter extracted tar archives and reject files or modify their metadata. Use the filter argument to control this behavior.\n",
      "  tar.extractall()\n"
     ]
    }
   ],
   "source": [
    "MODEL_NAME = 'ssd_mobilenet_v2_fpnlite_320x320_coco17_tpu-8'\n",
    "BASE_URL = 'http://download.tensorflow.org/models/object_detection/tf2/20200711'\n",
    "MODEL_FILE = MODEL_NAME + '.tar.gz'\n",
    "DOWNLOAD_URL = f'{BASE_URL}/{MODEL_FILE}'\n",
    "\n",
    "# Download and extract model\n",
    "urllib.request.urlretrieve(DOWNLOAD_URL, MODEL_FILE)\n",
    "tar = tarfile.open(MODEL_FILE)\n",
    "tar.extractall()\n",
    "tar.close()\n",
    "\n",
    "# Path to the saved model directory\n",
    "MODEL_DIR = os.path.join(os.getcwd(), MODEL_NAME, 'saved_model')"
   ]
  },
  {
   "cell_type": "markdown",
   "id": "680e3d80",
   "metadata": {},
   "source": [
    "### Load the Model"
   ]
  },
  {
   "cell_type": "code",
   "execution_count": 3,
   "id": "d2b87313",
   "metadata": {},
   "outputs": [
    {
     "name": "stdout",
     "output_type": "stream",
     "text": [
      "Model loaded successfully\n"
     ]
    }
   ],
   "source": [
    "# Load the Saved Model\n",
    "detect_fn = tf.saved_model.load(MODEL_DIR)\n",
    "print(\"Model loaded successfully\")"
   ]
  },
  {
   "cell_type": "markdown",
   "id": "789eafbf",
   "metadata": {},
   "source": [
    "### Load an Image"
   ]
  },
  {
   "cell_type": "code",
   "execution_count": 4,
   "id": "8383b3e8",
   "metadata": {},
   "outputs": [],
   "source": [
    "def load_image_into_numpy_array(path):\n",
    "    return np.array(Image.open(path))\n",
    "\n",
    "IMAGE_PATH = '../images/traffic.jpg' \n",
    "image_np = load_image_into_numpy_array(IMAGE_PATH)\n",
    "\n",
    "# Add batch dimension and convert to tensor\n",
    "input_tensor = tf.convert_to_tensor(image_np)[tf.newaxis, ...]"
   ]
  },
  {
   "cell_type": "markdown",
   "id": "721f2db2",
   "metadata": {},
   "source": [
    "### Run Inference"
   ]
  },
  {
   "cell_type": "code",
   "execution_count": 5,
   "id": "ca6b6a8f",
   "metadata": {},
   "outputs": [
    {
     "name": "stdout",
     "output_type": "stream",
     "text": [
      "Number of objects detected: 100\n"
     ]
    }
   ],
   "source": [
    "detections = detect_fn(input_tensor)\n",
    "\n",
    "# Convert outputs to NumPy for easier handling\n",
    "num_detections = int(detections.pop('num_detections'))\n",
    "detections = {key: value[0, :num_detections].numpy()\n",
    "              for key, value in detections.items()}\n",
    "detections['num_detections'] = num_detections\n",
    "\n",
    "# Detection classes are ints\n",
    "detections['detection_classes'] = detections['detection_classes'].astype(np.int64)\n",
    "\n",
    "print(\"Number of objects detected:\", num_detections)"
   ]
  },
  {
   "cell_type": "markdown",
   "id": "7ef6f774",
   "metadata": {},
   "source": [
    "### Visualize"
   ]
  },
  {
   "cell_type": "code",
   "execution_count": null,
   "id": "c0c71185",
   "metadata": {},
   "outputs": [],
   "source": [
    "from object_detection.utils import visualization_utils as viz_utils\n",
    "from object_detection.utils import label_map_util\n",
    "import matplotlib.pyplot as plt\n",
    "\n",
    "# Download label map for COCO dataset (if not already)\n",
    "LABEL_FILENAME = 'mscoco_label_map.pbtxt'\n",
    "urllib.request.urlretrieve(\n",
    "    'https://raw.githubusercontent.com/tensorflow/models/master/research/object_detection/data/mscoco_label_map.pbtxt',\n",
    "    LABEL_FILENAME\n",
    ")\n",
    "\n",
    "category_index = label_map_util.create_category_index_from_labelmap(LABEL_FILENAME)\n",
    "\n",
    "viz_utils.visualize_boxes_and_labels_on_image_array(\n",
    "    image_np,\n",
    "    detections['detection_boxes'],\n",
    "    detections['detection_classes'],\n",
    "    detections['detection_scores'],\n",
    "    category_index,\n",
    "    use_normalized_coordinates=True,\n",
    "    max_boxes_to_draw=10,\n",
    "    min_score_thresh=0.5\n",
    ")\n",
    "\n",
    "plt.figure(figsize=(12,8))\n",
    "plt.imshow(image_np)\n",
    "plt.axis('off')\n",
    "plt.show()"
   ]
  },
  {
   "cell_type": "code",
   "execution_count": null,
   "id": "8a51a682",
   "metadata": {},
   "outputs": [],
   "source": []
  }
 ],
 "metadata": {
  "kernelspec": {
   "display_name": ".venv",
   "language": "python",
   "name": "python3"
  },
  "language_info": {
   "codemirror_mode": {
    "name": "ipython",
    "version": 3
   },
   "file_extension": ".py",
   "mimetype": "text/x-python",
   "name": "python",
   "nbconvert_exporter": "python",
   "pygments_lexer": "ipython3",
   "version": "3.12.7"
  }
 },
 "nbformat": 4,
 "nbformat_minor": 5
}
